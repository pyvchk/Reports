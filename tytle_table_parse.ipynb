{
 "cells": [
  {
   "cell_type": "code",
   "execution_count": 9,
   "id": "e4490b80",
   "metadata": {},
   "outputs": [],
   "source": [
    "import pandas as pd\n",
    "import numpy as np\n",
    "import re"
   ]
  },
  {
   "cell_type": "code",
   "execution_count": 10,
   "id": "c915d80c",
   "metadata": {},
   "outputs": [],
   "source": [
    "tytle_table = pd.read_excel('Экспресс-отчет КЦ-2 КС Елизаветинская Северного ЛПУМГ цех.xlsx', sheet_name='Титульный лист', engine='openpyxl')"
   ]
  },
  {
   "cell_type": "code",
   "execution_count": 178,
   "id": "991c5c8a",
   "metadata": {},
   "outputs": [],
   "source": [
    "def _searching_cells(searching_row: str,\n",
    "                     end_row: int = None,\n",
    "                     start_row: int = 0,\n",
    "                     check_column: int = 0) -> int:     \n",
    "    for index, cell in enumerate(tytle_table.iloc[start_row:end_row,\n",
    "                                                  check_column]):\n",
    "        if re.search(searching_row, str(cell)) is not None:\n",
    "            return index\n",
    "        \n",
    "def _eq_and_spec_search(header_name:str, check_column:int) -> None:\n",
    "    eq_or_spec_list = []\n",
    "    try:\n",
    "        header_row = _searching_cells(header_name,  check_column=check_column) + 1\n",
    "    except TypeError:\n",
    "        print(\"На титульном листе удалены сведения о Зав.№ оборудования/ФИО специалистов\")\n",
    "        raise TypeError\n",
    "    while not pd.isnull(tytle_table.iloc[header_row, check_column]):        \n",
    "        eq_or_spec_list.append(tytle_table.iloc[header_row, check_column])\n",
    "        header_row += 1\n",
    "    return eq_or_spec_list\n",
    "\n",
    "def tytle_table_parse():\n",
    "    try:\n",
    "        #Наименование заказчика\n",
    "        client_name = tytle_table.iloc[_searching_cells(r'Наименование общества'), 1]\n",
    "        #Наименование объекта контроля\n",
    "        vtd_obj_name = tytle_table.iloc[_searching_cells(r'Наименование об\\wекта'), 1]\n",
    "        #Наименование газопровода/трубопровода\n",
    "        pipeline_name = tytle_table.iloc[_searching_cells(r'Наименование \\w+провода'), 1]\n",
    "        #Вид объекта контроля\n",
    "        vtd_obj_type = tytle_table.iloc[_searching_cells(r'Вид об\\wекта'), 1]\n",
    "        #Даты начала и окончания работ\n",
    "        vtd_start_date = tytle_table.iloc[_searching_cells(r'Дата начала'), 1]\n",
    "        vtd_end_date = tytle_table.iloc[_searching_cells(r'Дата окончания'), 1]\n",
    "        #Категория трубопровода\n",
    "        pipeline_category = tytle_table.iloc[_searching_cells(r'Категория',  check_column=5), 6]\n",
    "        #Номер и дата договора/письма\n",
    "        try:\n",
    "            contract_name_and_date = tytle_table.iloc[_searching_cells(r'договор|письм\\w',  check_column=3) + 1, 3]\n",
    "        except TypeError:\n",
    "            print(\"На титульном листе удалены сведения о номере договора/письма\")\n",
    "            raise TypeError  \n",
    "        #Перечень заводских номеров оборудования\n",
    "        equipment_numbers_list = _eq_and_spec_search(r'Зав', 2)\n",
    "        #Перечень специалистов\n",
    "        specialists_list = _eq_and_spec_search(r'Ф\\sИ\\sО', 1)                    \n",
    "    except ValueError:\n",
    "        print(\"На титульном листе удалены необходимые строки\")\n",
    "        raise ValueError\n",
    "    if not re.fullmatch(r'\\w', pipeline_name):\n",
    "        pipeline_name = None"
   ]
  },
  {
   "cell_type": "code",
   "execution_count": 179,
   "id": "1cb37a11",
   "metadata": {},
   "outputs": [],
   "source": [
    "if __name__ == '__main__':\n",
    "    tytle_table_parse()\n",
    "    \n",
    "    NONES\n",
    "    Normalize"
   ]
  },
  {
   "cell_type": "code",
   "execution_count": null,
   "id": "aa5ee868",
   "metadata": {},
   "outputs": [],
   "source": []
  },
  {
   "cell_type": "code",
   "execution_count": null,
   "id": "26bfc65a",
   "metadata": {},
   "outputs": [],
   "source": []
  },
  {
   "cell_type": "code",
   "execution_count": null,
   "id": "9c2c2e24",
   "metadata": {},
   "outputs": [],
   "source": []
  },
  {
   "cell_type": "code",
   "execution_count": null,
   "id": "0af662a4",
   "metadata": {},
   "outputs": [],
   "source": []
  },
  {
   "cell_type": "code",
   "execution_count": null,
   "id": "b15b0841",
   "metadata": {},
   "outputs": [],
   "source": []
  },
  {
   "cell_type": "code",
   "execution_count": null,
   "id": "4d37ae30",
   "metadata": {},
   "outputs": [],
   "source": []
  }
 ],
 "metadata": {
  "kernelspec": {
   "display_name": "Python 3 (ipykernel)",
   "language": "python",
   "name": "python3"
  },
  "language_info": {
   "codemirror_mode": {
    "name": "ipython",
    "version": 3
   },
   "file_extension": ".py",
   "mimetype": "text/x-python",
   "name": "python",
   "nbconvert_exporter": "python",
   "pygments_lexer": "ipython3",
   "version": "3.9.5"
  }
 },
 "nbformat": 4,
 "nbformat_minor": 5
}
