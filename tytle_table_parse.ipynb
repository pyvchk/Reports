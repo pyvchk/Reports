{
 "cells": [
  {
   "cell_type": "code",
   "execution_count": 264,
   "id": "e4490b80",
   "metadata": {},
   "outputs": [],
   "source": [
    "import pandas as pd\n",
    "import numpy as np\n",
    "import re\n",
    "import datetime\n",
    "from exeptions import NoneParameter"
   ]
  },
  {
   "cell_type": "code",
   "execution_count": 191,
   "id": "c915d80c",
   "metadata": {},
   "outputs": [],
   "source": [
    "tytle_table = pd.read_excel('Экспресс-отчет КЦ-2 КС Елизаветинская Северного ЛПУМГ цех.xlsx', sheet_name='Титульный лист', engine='openpyxl')"
   ]
  },
  {
   "cell_type": "code",
   "execution_count": 267,
   "id": "991c5c8a",
   "metadata": {},
   "outputs": [],
   "source": [
    "def _search_cells(searching_row: str,\n",
    "                     end_row: int = None,\n",
    "                     start_row: int = 0,\n",
    "                     check_column: int = 0) -> int:\n",
    "    \"\"\"Поиск ячеек на титульном листе\"\"\"\n",
    "    for index, cell in enumerate(tytle_table.iloc[start_row:end_row,\n",
    "                                                  check_column]):\n",
    "        if re.search(searching_row, str(cell)) is not None:\n",
    "            return index\n",
    "        \n",
    "def _search_eq_and_spec(header_name:str, check_column:int) -> None:\n",
    "    \"\"\"Поиск оборудования или специалистов с помощением их в список\"\"\"\n",
    "    eq_or_spec_list = []\n",
    "    try:\n",
    "        header_row = _search_cells(header_name,  check_column=check_column) + 1\n",
    "    except TypeError:\n",
    "        print(\"На титульном листе удалены сведения о Зав.№ оборудования/ФИО специалистов\")\n",
    "        raise TypeError\n",
    "    while not pd.isnull(tytle_table.iloc[header_row, check_column]):        \n",
    "        eq_or_spec_list.append(tytle_table.iloc[header_row, check_column])\n",
    "        header_row += 1\n",
    "    return eq_or_spec_list\n",
    "\n",
    "def _check_none_parameter(*parameters) -> None:\n",
    "    \"\"\"Проверка, что все обязательные поля заполнены\"\"\"\n",
    "    for parameter in parameters:\n",
    "        if not parameter:\n",
    "            raise NoneParameter(\"На Титульном листе экспресс-отчета отсутствуют обязательные параметры\")\n",
    "            \n",
    "def _normilize_parameters(vtd_obj_name,\n",
    "                          vtd_obj_type,\n",
    "                          pipeline_category, \n",
    "                          pipeline_name) -> None:\n",
    "    \"\"\"Приведение параметров к нормальному виду\"\"\"\n",
    "    if not re.fullmatch(r'\\w', pipeline_name):\n",
    "        pipeline_name = None\n",
    "    pipeline_category_list = pipeline_category.replace(\" \", \"\").split(\",\")\n",
    "    \n",
    "    \n",
    "    \n",
    "    vtd_obj_name\n",
    "    vtd_obj_type   \n",
    "    return ()\n",
    "\n",
    "\n",
    "\n",
    "\n",
    "\n",
    "\n",
    "\n",
    "\n",
    "\n",
    "def tytle_table_parse():\n",
    "    try:\n",
    "        # Наименование заказчика\n",
    "        client_name = tytle_table.iloc[_search_cells(r'Наименование общества'), 1]\n",
    "        #Наименование объекта контроля\n",
    "        vtd_obj_name = tytle_table.iloc[_search_cells(r'Наименование об\\wекта'), 1]\n",
    "        # Наименование газопровода/трубопровода\n",
    "        pipeline_name = tytle_table.iloc[_search_cells(r'Наименование \\w+провода'), 1]\n",
    "        # Вид объекта контроля\n",
    "        vtd_obj_type = tytle_table.iloc[_search_cells(r'Вид об\\wекта'), 1]\n",
    "        # Даты начала и окончания работ\n",
    "        vtd_start_date = tytle_table.iloc[_search_cells(r'Дата начала'), 1]\n",
    "        vtd_end_date = tytle_table.iloc[_search_cells(r'Дата окончания'), 1]\n",
    "        # Категория трубопровода\n",
    "        pipeline_category = tytle_table.iloc[_search_cells(r'Категория',  check_column=5), 6]\n",
    "        # Номер и дата договора/письма\n",
    "        try:\n",
    "            contract_name_and_date = tytle_table.iloc[_search_cells(r'договор|письм\\w',  check_column=3) + 1, 3]\n",
    "        except TypeError:\n",
    "            print(\"На титульном листе удалены сведения о номере договора/письма\")\n",
    "            raise TypeError  \n",
    "        # Перечень заводских номеров оборудования\n",
    "        equipment_numbers_list = _search_eq_and_spec(r'Зав', 2)\n",
    "        # Перечень специалистов\n",
    "        specialists_list = _search_eq_and_spec(r'Ф\\sИ\\sО', 1)\n",
    "        #\n",
    "        _check_none_parameter(client_name,\n",
    "                      vtd_obj_name,\n",
    "                      vtd_obj_type,\n",
    "                      vtd_start_date,\n",
    "                      vtd_end_date,\n",
    "                      pipeline_category,\n",
    "                      equipment_numbers_list,\n",
    "                      specialists_list)\n",
    "        (a, b, c) = _normilize_parameters(vtd_obj_name,\n",
    "                                          vtd_obj_type, \n",
    "                                          pipeline_category, \n",
    "                                          pipeline_name)\n",
    "        print([                 vtd_obj_name,\n",
    "                      vtd_obj_type,\n",
    "                      vtd_start_date,\n",
    "                      vtd_end_date,\n",
    "                      pipeline_category,\n",
    "                      equipment_numbers_list,\n",
    "                      specialists_list])\n",
    "    except ValueError:\n",
    "        print(\"На титульном листе удалены или переименованы необходимые строки\")\n",
    "        raise ValueError\n",
    "    \n",
    "    \n",
    "    \n",
    "    \n",
    "    \n",
    "    \n",
    "    \n",
    "    \n",
    "    \n",
    "    \n",
    "    \n",
    "    \n",
    "    return client_name...........    \n",
    "    \n"
   ]
  },
  {
   "cell_type": "code",
   "execution_count": 268,
   "id": "1cb37a11",
   "metadata": {},
   "outputs": [
    {
     "name": "stdout",
     "output_type": "stream",
     "text": [
      "['КЦ-2 КС Елизаветинская Северного ЛПУМГ', 'Промплощадка', datetime.datetime(2022, 6, 22, 0, 0), datetime.datetime(2022, 6, 28, 0, 0), 'В', [9, 140555], ['Соловьев Олег Романович']]\n"
     ]
    },
    {
     "ename": "UnboundLocalError",
     "evalue": "local variable 'vtd_start_date' referenced before assignment",
     "output_type": "error",
     "traceback": [
      "\u001b[0;31m---------------------------------------------------------------------------\u001b[0m",
      "\u001b[0;31mUnboundLocalError\u001b[0m                         Traceback (most recent call last)",
      "Input \u001b[0;32mIn [268]\u001b[0m, in \u001b[0;36m<cell line: 1>\u001b[0;34m()\u001b[0m\n\u001b[1;32m      1\u001b[0m \u001b[38;5;28;01mif\u001b[39;00m \u001b[38;5;18m__name__\u001b[39m \u001b[38;5;241m==\u001b[39m \u001b[38;5;124m'\u001b[39m\u001b[38;5;124m__main__\u001b[39m\u001b[38;5;124m'\u001b[39m:\n\u001b[0;32m----> 2\u001b[0m     \u001b[43mtytle_table_parse\u001b[49m\u001b[43m(\u001b[49m\u001b[43m)\u001b[49m\n",
      "Input \u001b[0;32mIn [267]\u001b[0m, in \u001b[0;36mtytle_table_parse\u001b[0;34m()\u001b[0m\n\u001b[1;32m     71\u001b[0m     vtd_start_date \u001b[38;5;241m=\u001b[39m datetime\u001b[38;5;241m.\u001b[39mdatetime(vtd_start_date)\n\u001b[1;32m     72\u001b[0m     vtd_end_date \u001b[38;5;241m=\u001b[39m datetime\u001b[38;5;241m.\u001b[39mdatetime(vtd_end_date)\n\u001b[0;32m---> 74\u001b[0m \u001b[43m_normilize_parameters\u001b[49m\u001b[43m(\u001b[49m\u001b[43m)\u001b[49m\n",
      "Input \u001b[0;32mIn [267]\u001b[0m, in \u001b[0;36mtytle_table_parse.<locals>._normilize_parameters\u001b[0;34m()\u001b[0m\n\u001b[1;32m     70\u001b[0m \u001b[38;5;28;01mdef\u001b[39;00m \u001b[38;5;21m_normilize_parameters\u001b[39m() \u001b[38;5;241m-\u001b[39m\u001b[38;5;241m>\u001b[39m \u001b[38;5;28;01mNone\u001b[39;00m:\n\u001b[0;32m---> 71\u001b[0m     vtd_start_date \u001b[38;5;241m=\u001b[39m datetime\u001b[38;5;241m.\u001b[39mdatetime(\u001b[43mvtd_start_date\u001b[49m)\n\u001b[1;32m     72\u001b[0m     vtd_end_date \u001b[38;5;241m=\u001b[39m datetime\u001b[38;5;241m.\u001b[39mdatetime(vtd_end_date)\n",
      "\u001b[0;31mUnboundLocalError\u001b[0m: local variable 'vtd_start_date' referenced before assignment"
     ]
    }
   ],
   "source": [
    "if __name__ == '__main__':\n",
    "    tytle_table_parse()\n",
    "    \n",
    "    #Normalize"
   ]
  },
  {
   "cell_type": "code",
   "execution_count": null,
   "id": "b8035301",
   "metadata": {},
   "outputs": [],
   "source": []
  },
  {
   "cell_type": "code",
   "execution_count": null,
   "id": "ddc4bf75",
   "metadata": {},
   "outputs": [],
   "source": []
  },
  {
   "cell_type": "code",
   "execution_count": null,
   "id": "8ef3fef2",
   "metadata": {},
   "outputs": [],
   "source": []
  },
  {
   "cell_type": "code",
   "execution_count": null,
   "id": "e07a8dfe",
   "metadata": {},
   "outputs": [],
   "source": []
  }
 ],
 "metadata": {
  "kernelspec": {
   "display_name": "Python 3 (ipykernel)",
   "language": "python",
   "name": "python3"
  },
  "language_info": {
   "codemirror_mode": {
    "name": "ipython",
    "version": 3
   },
   "file_extension": ".py",
   "mimetype": "text/x-python",
   "name": "python",
   "nbconvert_exporter": "python",
   "pygments_lexer": "ipython3",
   "version": "3.9.5"
  }
 },
 "nbformat": 4,
 "nbformat_minor": 5
}
